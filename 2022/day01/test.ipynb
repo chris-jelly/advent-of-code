{
 "cells": [
  {
   "cell_type": "code",
   "execution_count": 40,
   "metadata": {},
   "outputs": [],
   "source": [
    "from pathlib import Path\n",
    "\n",
    "INPUT = Path.joinpath(Path.cwd(), 'input.txt')\n",
    "\n",
    "with open(INPUT, mode='r') as f:\n",
    "  s = f.read()\n",
    "  s = s.strip().split(\"\\n\\n\")\n",
    "\n",
    "  data = [[int(y) for y in x.split(\"\\n\")] for x in s]\n",
    "  \n",
    "  "
   ]
  },
  {
   "cell_type": "code",
   "execution_count": 64,
   "metadata": {},
   "outputs": [
    {
     "name": "stdout",
     "output_type": "stream",
     "text": [
      "209691\n"
     ]
    }
   ],
   "source": [
    "\n",
    "Total = []\n",
    "for elf in data:\n",
    "  count = 0\n",
    "  for food in elf:\n",
    "    count += food\n",
    "  Total.append(count)\n",
    "\n",
    "Total = sorted(Total)\n",
    "print(sum(Total[-3:]))\n"
   ]
  }
 ],
 "metadata": {
  "kernelspec": {
   "display_name": ".venv",
   "language": "python",
   "name": "python3"
  },
  "language_info": {
   "codemirror_mode": {
    "name": "ipython",
    "version": 3
   },
   "file_extension": ".py",
   "mimetype": "text/x-python",
   "name": "python",
   "nbconvert_exporter": "python",
   "pygments_lexer": "ipython3",
   "version": "3.11.0"
  },
  "orig_nbformat": 4,
  "vscode": {
   "interpreter": {
    "hash": "cc99105a25e574ce68841c5929751e18701b17f13bd82d721dad3f5ba0c03c11"
   }
  }
 },
 "nbformat": 4,
 "nbformat_minor": 2
}
